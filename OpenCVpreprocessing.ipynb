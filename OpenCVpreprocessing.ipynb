{
 "cells": [
  {
   "cell_type": "code",
   "execution_count": 33,
   "metadata": {},
   "outputs": [],
   "source": [
    "from PIL import Image\n",
    "import numpy as np\n",
    "import cv2 as cv\n",
    "import pytesseract"
   ]
  },
  {
   "cell_type": "code",
   "execution_count": 34,
   "metadata": {},
   "outputs": [],
   "source": [
    "img = cv.imread(\"Test-Samples/ATB/ATB_Bill_01.jpg\")\n",
    "img = cv.resize(img, None, fx=1.5, fy=1.5, interpolation = cv.INTER_CUBIC)\n",
    "img = cv.cvtColor(img, cv.COLOR_BGR2GRAY)\n",
    "kernel = np.ones((1, 1), np.uint8)\n",
    "img = cv.dilate(img, kernel, iterations = 1)\n",
    "img = cv.erode(img, kernel, iterations = 1)\n",
    "img = cv.GaussianBlur(img, (5, 5), 0)\n"
   ]
  },
  {
   "cell_type": "code",
   "execution_count": 45,
   "metadata": {},
   "outputs": [
    {
     "name": "stdout",
     "output_type": "stream",
     "text": [
      "156.0\n"
     ]
    },
    {
     "data": {
      "text/plain": [
       "True"
      ]
     },
     "execution_count": 45,
     "metadata": {},
     "output_type": "execute_result"
    }
   ],
   "source": [
    "otsu3, otsu = cv.threshold(img, 0, 255, cv.THRESH_BINARY+cv.THRESH_OTSU)\n",
    "cv.imwrite('ATBotsu.jpg', otsu)"
   ]
  },
  {
   "cell_type": "code",
   "execution_count": 46,
   "metadata": {},
   "outputs": [
    {
     "name": "stdout",
     "output_type": "stream",
     "text": [
      "ГАГУЧА Лінія о 00 500 4\n",
      "е-гпаїї: інфаїбітагкої. сон, |\n",
      "\n",
      "гав вт\n",
      "нега важ\n",
      "Й.ЛЬВІВ, ВУЛ.ЛИЧА КРИЛ 201\n",
      "поза 0\n",
      "ЗН 81402404117 он 3000328937\n",
      "Сасяк Г. Я. Каса 02\n",
      "\n",
      "каса» 0 яко аа с\n",
      "\n",
      "пе 12021, 2 925\n",
      "Пакет п/в 45х65 біарозкладний\n",
      "\n",
      "      \n",
      "\n",
      "2.10 н\n",
      "Каргопля ігаг 1.574 Х 15,95 - 25.11 й\n",
      "Олія 0,85 п Розумний вибір сон\n",
      "24.20 Й\n",
      "гоупі\n",
      "Морозиво і кг Розунний вибір з\n",
      "951.80 й\n",
      "Знихка -0.02 8\n",
      "Соус 485 г Руна Чардаш ск/банк\n",
      "п 29.20 й\n",
      "Яйце куряче 10 ут Квочка 1 кат\n",
      "; 14,30 8\n",
      "Печиво 450 г Розумний Вибір Бу\n",
      ", 25,3\n",
      "ЙОГурт 0,9 кг Своя Лінія чорки 7Я\n",
      "Чибуля Ріпчаста Ігат 20.80 й\n",
      "0.794 Х 17.95 - іф 54\n",
      "Линан Тгат 0.80 Х 64. 95 - йон\n",
      "Часник ранній Їгат\n",
      "0.065 Х 104.99 з 5.93 й\n",
      "Банан Їгат 1.110 Х 29.95 - 33.24 й\n",
      "Хліб 0,82 кг Хлібна Хата Гетьм\n",
      "| 23.80 А\n",
      "Нак.вир. 400 гоЗогейії іулонка\n",
      "1.10 А\n",
      "Пиво 0,5 л Новдаагдеп Шпіїв с |\n",
      "31.90!\n",
      "Мак.вир. 400 г богепії Локонна\n",
      "17.10 0\n",
      "Масло 200 г Молокія солодибвер\n",
      "\n",
      "96.70 й\n",
      "\n",
      "Суна яв 290.10\n",
      "\n",
      "А:\n",
      "ПДВ. Б Б с 29 008 5.06\n",
      "Акцизнни податок Г с 5 008 1,82\n",
      "Картка 390.10\n",
      "ОМАДБАНК\n",
      "ТОВ ЯГБ- -маркеї\" Магазин\n",
      "\"1113\n",
      "\n",
      "М. тв вул. Пичакітвська, 201\n",
      "сргергійі»\n",
      "\n",
      "»ЮЛЛАТА УСПІШНАХ\n",
      "\n",
      "сума: 390.10 ГРН\n",
      "РЕВІТ МАЗГЕВСАКО\n",
      "АРАДАРАЦЛ зи\n",
      "\n",
      "поо00000041010\n",
      "ТЕРМІНАЛ: 5130151822/03/20.9\n",
      "\n",
      "НОМЕ\n",
      "ПОСИЛАННЯ: 0082817 1 348:ЦИКЛ: 000\n",
      "КОД ГОРКЗАТО: 243550 ЧЕКОМ:\n",
      "\n",
      "кі й о д0З.2020 ТВ\n"
     ]
    }
   ],
   "source": [
    "binim = Image.open(\"ATBotsu.jpg\")\n",
    "text = pytesseract.image_to_string(binim, lang = \"ukr\")\n",
    "print(text)"
   ]
  },
  {
   "cell_type": "code",
   "execution_count": null,
   "metadata": {},
   "outputs": [],
   "source": []
  },
  {
   "cell_type": "code",
   "execution_count": null,
   "metadata": {},
   "outputs": [],
   "source": []
  }
 ],
 "metadata": {
  "kernelspec": {
   "display_name": "Python 3",
   "language": "python",
   "name": "python3"
  },
  "language_info": {
   "codemirror_mode": {
    "name": "ipython",
    "version": 2
   },
   "file_extension": ".py",
   "mimetype": "text/x-python",
   "name": "python",
   "nbconvert_exporter": "python",
   "pygments_lexer": "ipython2",
   "version": "2.7.16"
  }
 },
 "nbformat": 4,
 "nbformat_minor": 2
}
