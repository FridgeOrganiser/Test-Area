{
 "cells": [
  {
   "cell_type": "code",
   "execution_count": 63,
   "metadata": {},
   "outputs": [],
   "source": [
    "from PIL import Image\n",
    "import numpy as np\n",
    "import cv2 as cv\n",
    "import pytesseract"
   ]
  },
  {
   "cell_type": "code",
   "execution_count": 64,
   "metadata": {},
   "outputs": [],
   "source": [
    "img = cv.imread(\"Test-Samples/sviy_market/sviy_market_sample.jpg\")\n",
    "img = cv.resize(img, None, fx=1.5, fy=1.5, interpolation = cv.INTER_CUBIC)\n",
    "img = cv.cvtColor(img, cv.COLOR_BGR2GRAY)\n",
    "kernel = np.ones((1, 1), np.uint8)\n",
    "img = cv.dilate(img, kernel, iterations = 1)\n",
    "img = cv.erode(img, kernel, iterations = 1)\n",
    "img = cv.GaussianBlur(img, (5, 5), 0)\n",
    "\n"
   ]
  },
  {
   "cell_type": "code",
   "execution_count": 66,
   "metadata": {},
   "outputs": [
    {
     "data": {
      "text/plain": [
       "True"
      ]
     },
     "execution_count": 66,
     "metadata": {},
     "output_type": "execute_result"
    }
   ],
   "source": [
    "img = cv.threshold(img, 0, 255, cv.THRESH_BINARY+cv.THRESH_OTSU)\n",
    "cv.imwrite(\"otsu.jpg\", otsu)"
   ]
  },
  {
   "cell_type": "code",
   "execution_count": 67,
   "metadata": {},
   "outputs": [
    {
     "name": "stdout",
     "output_type": "stream",
     "text": [
      "і)\n",
      "1308 \"РІТЕЙЛ УКРАЇ\n",
      "Магазин, м.Львів, БУЛ. Пасічна, 59\n",
      "ПН 368080213256\n",
      "\n",
      "сп802004054 | ФН 3000739828\n",
      "Я вацтій фіталія Ва Каса 03\n",
      "\n",
      "  \n",
      "  \n",
      " \n",
      "\n",
      "Каса МЗ\n",
      "90413-Кукурудза Ріо 420г Десер\n",
      "\n",
      "22.89 А\n",
      "13196-Булка Власне Вир-во 100г Кун\n",
      "жут 5, шт Х 5.99 з 29,95 А\n",
      "8651-Кефір Галичина 870г 2,55\n",
      "\n",
      "21.99 А\n",
      "\n",
      "90415-Квасоля Ріо 480г натурал\n",
      "2. шт КХ 18.50 з 37.00 А\n",
      "1965-Лимон 0.134 кг Х 79.99 « 10.72 А\n",
      "381207 -Ряжанка Радико 400г 2,54 плі\n",
      "10.49 А\n",
      "19454- Яйце Куряче Квочка 10шт Дома\n",
      "шні 16.99 А\n",
      "1938- Банан 0.572 кг Х 30.99 « 17 ЛЗ А\n",
      "2709-Нектар Садочок 0,95л Яблучно-\n",
      "виноградн б 16.49 А\n",
      "Системний номер: 38\n",
      "\n",
      "\"Свій Маркет\" Свій до свого...\n",
      "\n",
      "Сума 194.25\n",
      "\n",
      "ПДВ А А 2 20.004 | 30,11\n",
      "\n",
      "Картка 184.25\n",
      "000056528 00013 29.03.2020 19:17\n",
      "\n",
      "ФІСКАЛЬНИЙ ЧЕК баз\n"
     ]
    }
   ],
   "source": [
    "binim = Image.open(\"otsu.jpg\")\n",
    "text = pytesseract.image_to_string(binim, lang = \"ukr\")\n",
    "print(text)"
   ]
  },
  {
   "cell_type": "code",
   "execution_count": null,
   "metadata": {},
   "outputs": [],
   "source": []
  },
  {
   "cell_type": "code",
   "execution_count": null,
   "metadata": {},
   "outputs": [],
   "source": []
  }
 ],
 "metadata": {
  "kernelspec": {
   "display_name": "Python 3",
   "language": "python",
   "name": "python3"
  },
  "language_info": {
   "codemirror_mode": {
    "name": "ipython",
    "version": 3
   },
   "file_extension": ".py",
   "mimetype": "text/x-python",
   "name": "python",
   "nbconvert_exporter": "python",
   "pygments_lexer": "ipython3",
   "version": "3.7.3"
  }
 },
 "nbformat": 4,
 "nbformat_minor": 2
}
